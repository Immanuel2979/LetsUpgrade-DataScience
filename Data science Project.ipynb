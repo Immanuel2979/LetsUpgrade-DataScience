{
 "cells": [
  {
   "cell_type": "markdown",
   "metadata": {},
   "source": [
    "# Final project"
   ]
  },
  {
   "cell_type": "raw",
   "metadata": {},
   "source": [
    "Dataset’s columns Description:\n",
    "groupId - Integer ID to identify a group within a match. If the same group of players plays in different matches, they will have a different groupId each time.\n",
    "matchId - Integer ID to identify match. There are no matches that are in both the training and testing set.\n",
    "assists - Number of enemy players this player damaged that were killed by teammates.\n",
    "boosts - Number of boost items used.\n",
    "damageDealt - Total damage dealt. Note: Self inflicted damage is subtracted.\n",
    "DBNOs - Number of enemy players knocked.\n",
    "headshotKills - Number of enemy players killed with headshots.\n",
    "heals - Number of healing items used.\n",
    "killPlace - Ranking in match of number of enemy players killed.\n",
    "killPoints - Kills-based external ranking of player. (Think of this as an Elo ranking where only kills matter.)\n",
    "kills - Number of enemy players killed.\n",
    "killStreaks - Max number of enemy players killed in a short amount of time.\n",
    "longestKill - Longest distance between player and player killed at time of death. This may be misleading, as downing a - player and driving away may lead to a large longestKill stat.\n",
    "maxPlace - Worst placement we have data for in the match. This may not match with numGroups, as sometimes the data skips over placements.\n",
    "numGroups - Number of groups we have data for in the match.\n",
    "revives - Number of times this player revived teammates\n",
    "rideDistance - Total distance traveled in vehicles measured in meters.\n",
    "roadKills - Number of kills while in a vehicle.\n",
    "swimDistance - Total distance traveled by swimming measured in meters.\n",
    "teamKills - Number of times this player killed a teammate.\n",
    "vehicleDestroys - Number of vehicles destroyed.\n",
    "walkDistance - Total distance traveled on foot measured in meters.\n",
    "weaponsAcquired - Number of weapons picked up.\n",
    "winPoints - Win-based external ranking of player. (Think of this as an Elo ranking where only winning matters.)\n",
    "winPlacePerc - The target of prediction. This is a percentile winning placement, where 1 corresponds to 1st place, and 0 corresponds to last place in the match. It is calculated off of maxPlace, not numGroups, so it is possible to have missing chunks in a match."
   ]
  },
  {
   "cell_type": "raw",
   "metadata": {},
   "source": [
    "Tasks to be performed:\n",
    "1. Read the dataset.\n",
    "2. Check the datatype of all the columns.\n",
    "3. Find the summary of all the numerical columns and write your findings about it.\n",
    "4. The average person kills how many players?\n",
    "5. 99% of people have how many kills?\n",
    "6. The most kills ever recorded are how much?\n",
    "7. Print all the columns of the dataframe.\n",
    "8. Comment on distribution of the match's duration. Use seaborn.\n",
    "9. Comment on distribution of the walk distance. Use seaborn.\n",
    "10. Plot distribution of the match's duration vs walk distance one below the other.\n",
    "11. Plot distribution of the match's duration vs walk distance side by side.\n",
    "12. Pairplot the dataframe. Comment on kills vs damage dealt, Comment on maxPlace vs numGroups.\n",
    "13. How many unique values are there in 'matchType' and what are their counts?\n",
    "14. Plot a barplot of ‘matchType’ vs 'killPoints'. Write your inferences.\n",
    "15. Plot a barplot of ‘matchType’ vs ‘weaponsAcquired’. Write your inferences.\n",
    "16. Find the Categorical columns.\n",
    "17. Plot a boxplot of ‘matchType’ vs ‘winPlacePerc’. Write your inferences.\n",
    "18. Plot a boxplot of ‘matchType’ vs ‘matchDuration’. Write your inferences.\n",
    "19. Change the orientation of the above plot to horizontal.\n",
    "20. Add a new column called ‘KILL’ which contains the sum of following columns viz. headshotKills,\n",
    "teamKills, roadKills.\n",
    "21. Round off column ‘winPlacePerc’ to 2 decimals.\n",
    "22. Take a sample of size 50 from the column damageDealt for 100 times and calculate its mean. Plot\n",
    "it on a histogram and comment on its distribution."
   ]
  },
  {
   "cell_type": "code",
   "execution_count": 1,
   "metadata": {},
   "outputs": [],
   "source": [
    "import numpy as np\n",
    "import pandas as pd\n",
    "import matplotlib.pyplot as plt\n",
    "import seaborn as sns"
   ]
  },
  {
   "cell_type": "markdown",
   "metadata": {},
   "source": [
    "# 1. Read the dataset."
   ]
  },
  {
   "cell_type": "code",
   "execution_count": 2,
   "metadata": {},
   "outputs": [
    {
     "data": {
      "text/html": [
       "<div>\n",
       "<style scoped>\n",
       "    .dataframe tbody tr th:only-of-type {\n",
       "        vertical-align: middle;\n",
       "    }\n",
       "\n",
       "    .dataframe tbody tr th {\n",
       "        vertical-align: top;\n",
       "    }\n",
       "\n",
       "    .dataframe thead th {\n",
       "        text-align: right;\n",
       "    }\n",
       "</style>\n",
       "<table border=\"1\" class=\"dataframe\">\n",
       "  <thead>\n",
       "    <tr style=\"text-align: right;\">\n",
       "      <th></th>\n",
       "      <th>Id</th>\n",
       "      <th>groupId</th>\n",
       "      <th>matchId</th>\n",
       "      <th>assists</th>\n",
       "      <th>boosts</th>\n",
       "      <th>damageDealt</th>\n",
       "      <th>DBNOs</th>\n",
       "      <th>headshotKills</th>\n",
       "      <th>heals</th>\n",
       "      <th>killPlace</th>\n",
       "      <th>...</th>\n",
       "      <th>revives</th>\n",
       "      <th>rideDistance</th>\n",
       "      <th>roadKills</th>\n",
       "      <th>swimDistance</th>\n",
       "      <th>teamKills</th>\n",
       "      <th>vehicleDestroys</th>\n",
       "      <th>walkDistance</th>\n",
       "      <th>weaponsAcquired</th>\n",
       "      <th>winPoints</th>\n",
       "      <th>winPlacePerc</th>\n",
       "    </tr>\n",
       "  </thead>\n",
       "  <tbody>\n",
       "    <tr>\n",
       "      <td>0</td>\n",
       "      <td>2f262dd9795e60</td>\n",
       "      <td>78437bcd91d40e</td>\n",
       "      <td>d5db3a49eb2955</td>\n",
       "      <td>0</td>\n",
       "      <td>0</td>\n",
       "      <td>0.0</td>\n",
       "      <td>0</td>\n",
       "      <td>0</td>\n",
       "      <td>0</td>\n",
       "      <td>92</td>\n",
       "      <td>...</td>\n",
       "      <td>0</td>\n",
       "      <td>0.0</td>\n",
       "      <td>0</td>\n",
       "      <td>0.0</td>\n",
       "      <td>0</td>\n",
       "      <td>0</td>\n",
       "      <td>0.0</td>\n",
       "      <td>0</td>\n",
       "      <td>1470</td>\n",
       "      <td>0.0000</td>\n",
       "    </tr>\n",
       "    <tr>\n",
       "      <td>1</td>\n",
       "      <td>a32847cf5bf34b</td>\n",
       "      <td>85b7ce5a12e10b</td>\n",
       "      <td>65223f05c7fdb4</td>\n",
       "      <td>0</td>\n",
       "      <td>0</td>\n",
       "      <td>163.2</td>\n",
       "      <td>1</td>\n",
       "      <td>1</td>\n",
       "      <td>0</td>\n",
       "      <td>42</td>\n",
       "      <td>...</td>\n",
       "      <td>0</td>\n",
       "      <td>0.0</td>\n",
       "      <td>0</td>\n",
       "      <td>0.0</td>\n",
       "      <td>0</td>\n",
       "      <td>0</td>\n",
       "      <td>132.7</td>\n",
       "      <td>2</td>\n",
       "      <td>1531</td>\n",
       "      <td>0.2222</td>\n",
       "    </tr>\n",
       "    <tr>\n",
       "      <td>2</td>\n",
       "      <td>1b1900a9990396</td>\n",
       "      <td>edf80d6523380a</td>\n",
       "      <td>1cadec4534f30a</td>\n",
       "      <td>0</td>\n",
       "      <td>3</td>\n",
       "      <td>278.7</td>\n",
       "      <td>2</td>\n",
       "      <td>1</td>\n",
       "      <td>8</td>\n",
       "      <td>16</td>\n",
       "      <td>...</td>\n",
       "      <td>3</td>\n",
       "      <td>0.0</td>\n",
       "      <td>0</td>\n",
       "      <td>0.0</td>\n",
       "      <td>0</td>\n",
       "      <td>0</td>\n",
       "      <td>3591.0</td>\n",
       "      <td>10</td>\n",
       "      <td>0</td>\n",
       "      <td>0.8571</td>\n",
       "    </tr>\n",
       "    <tr>\n",
       "      <td>3</td>\n",
       "      <td>f589dd03b60bf2</td>\n",
       "      <td>804ab5e5585558</td>\n",
       "      <td>c4a5676dc91604</td>\n",
       "      <td>0</td>\n",
       "      <td>0</td>\n",
       "      <td>191.9</td>\n",
       "      <td>1</td>\n",
       "      <td>0</td>\n",
       "      <td>0</td>\n",
       "      <td>31</td>\n",
       "      <td>...</td>\n",
       "      <td>0</td>\n",
       "      <td>0.0</td>\n",
       "      <td>0</td>\n",
       "      <td>0.0</td>\n",
       "      <td>0</td>\n",
       "      <td>0</td>\n",
       "      <td>332.7</td>\n",
       "      <td>3</td>\n",
       "      <td>0</td>\n",
       "      <td>0.3462</td>\n",
       "    </tr>\n",
       "    <tr>\n",
       "      <td>4</td>\n",
       "      <td>c23c4cc5b78b35</td>\n",
       "      <td>b3e2cd169ed920</td>\n",
       "      <td>cd595700a01bfa</td>\n",
       "      <td>0</td>\n",
       "      <td>0</td>\n",
       "      <td>100.0</td>\n",
       "      <td>1</td>\n",
       "      <td>0</td>\n",
       "      <td>0</td>\n",
       "      <td>87</td>\n",
       "      <td>...</td>\n",
       "      <td>0</td>\n",
       "      <td>0.0</td>\n",
       "      <td>0</td>\n",
       "      <td>0.0</td>\n",
       "      <td>0</td>\n",
       "      <td>0</td>\n",
       "      <td>252.7</td>\n",
       "      <td>3</td>\n",
       "      <td>1557</td>\n",
       "      <td>0.0690</td>\n",
       "    </tr>\n",
       "  </tbody>\n",
       "</table>\n",
       "<p>5 rows × 29 columns</p>\n",
       "</div>"
      ],
      "text/plain": [
       "               Id         groupId         matchId  assists  boosts  \\\n",
       "0  2f262dd9795e60  78437bcd91d40e  d5db3a49eb2955        0       0   \n",
       "1  a32847cf5bf34b  85b7ce5a12e10b  65223f05c7fdb4        0       0   \n",
       "2  1b1900a9990396  edf80d6523380a  1cadec4534f30a        0       3   \n",
       "3  f589dd03b60bf2  804ab5e5585558  c4a5676dc91604        0       0   \n",
       "4  c23c4cc5b78b35  b3e2cd169ed920  cd595700a01bfa        0       0   \n",
       "\n",
       "   damageDealt  DBNOs  headshotKills  heals  killPlace  ...  revives  \\\n",
       "0          0.0      0              0      0         92  ...        0   \n",
       "1        163.2      1              1      0         42  ...        0   \n",
       "2        278.7      2              1      8         16  ...        3   \n",
       "3        191.9      1              0      0         31  ...        0   \n",
       "4        100.0      1              0      0         87  ...        0   \n",
       "\n",
       "   rideDistance  roadKills  swimDistance  teamKills vehicleDestroys  \\\n",
       "0           0.0          0           0.0          0               0   \n",
       "1           0.0          0           0.0          0               0   \n",
       "2           0.0          0           0.0          0               0   \n",
       "3           0.0          0           0.0          0               0   \n",
       "4           0.0          0           0.0          0               0   \n",
       "\n",
       "   walkDistance  weaponsAcquired  winPoints  winPlacePerc  \n",
       "0           0.0                0       1470        0.0000  \n",
       "1         132.7                2       1531        0.2222  \n",
       "2        3591.0               10          0        0.8571  \n",
       "3         332.7                3          0        0.3462  \n",
       "4         252.7                3       1557        0.0690  \n",
       "\n",
       "[5 rows x 29 columns]"
      ]
     },
     "execution_count": 2,
     "metadata": {},
     "output_type": "execute_result"
    }
   ],
   "source": [
    "df = pd.read_csv('pubg.csv')\n",
    "df.head()"
   ]
  },
  {
   "cell_type": "markdown",
   "metadata": {},
   "source": [
    "# Task2 : Check the datatype of all the columns"
   ]
  },
  {
   "cell_type": "code",
   "execution_count": 3,
   "metadata": {},
   "outputs": [
    {
     "data": {
      "text/plain": [
       "Id                  object\n",
       "groupId             object\n",
       "matchId             object\n",
       "assists              int64\n",
       "boosts               int64\n",
       "damageDealt        float64\n",
       "DBNOs                int64\n",
       "headshotKills        int64\n",
       "heals                int64\n",
       "killPlace            int64\n",
       "killPoints           int64\n",
       "kills                int64\n",
       "killStreaks          int64\n",
       "longestKill        float64\n",
       "matchDuration        int64\n",
       "matchType           object\n",
       "maxPlace             int64\n",
       "numGroups            int64\n",
       "rankPoints           int64\n",
       "revives              int64\n",
       "rideDistance       float64\n",
       "roadKills            int64\n",
       "swimDistance       float64\n",
       "teamKills            int64\n",
       "vehicleDestroys      int64\n",
       "walkDistance       float64\n",
       "weaponsAcquired      int64\n",
       "winPoints            int64\n",
       "winPlacePerc       float64\n",
       "dtype: object"
      ]
     },
     "execution_count": 3,
     "metadata": {},
     "output_type": "execute_result"
    }
   ],
   "source": [
    "df.dtypes"
   ]
  },
  {
   "cell_type": "markdown",
   "metadata": {},
   "source": [
    "# Task3 : Find the summary of all the numerical columns and write your findings about it."
   ]
  },
  {
   "cell_type": "code",
   "execution_count": 4,
   "metadata": {},
   "outputs": [
    {
     "data": {
      "text/html": [
       "<div>\n",
       "<style scoped>\n",
       "    .dataframe tbody tr th:only-of-type {\n",
       "        vertical-align: middle;\n",
       "    }\n",
       "\n",
       "    .dataframe tbody tr th {\n",
       "        vertical-align: top;\n",
       "    }\n",
       "\n",
       "    .dataframe thead th {\n",
       "        text-align: right;\n",
       "    }\n",
       "</style>\n",
       "<table border=\"1\" class=\"dataframe\">\n",
       "  <thead>\n",
       "    <tr style=\"text-align: right;\">\n",
       "      <th></th>\n",
       "      <th>count</th>\n",
       "      <th>mean</th>\n",
       "      <th>std</th>\n",
       "      <th>min</th>\n",
       "      <th>25%</th>\n",
       "      <th>50%</th>\n",
       "      <th>75%</th>\n",
       "      <th>max</th>\n",
       "    </tr>\n",
       "  </thead>\n",
       "  <tbody>\n",
       "    <tr>\n",
       "      <td>assists</td>\n",
       "      <td>10000.0</td>\n",
       "      <td>0.234600</td>\n",
       "      <td>0.575149</td>\n",
       "      <td>0.0</td>\n",
       "      <td>0.000</td>\n",
       "      <td>0.0000</td>\n",
       "      <td>0.000000</td>\n",
       "      <td>7.0</td>\n",
       "    </tr>\n",
       "    <tr>\n",
       "      <td>boosts</td>\n",
       "      <td>10000.0</td>\n",
       "      <td>1.088500</td>\n",
       "      <td>1.703279</td>\n",
       "      <td>0.0</td>\n",
       "      <td>0.000</td>\n",
       "      <td>0.0000</td>\n",
       "      <td>2.000000</td>\n",
       "      <td>18.0</td>\n",
       "    </tr>\n",
       "    <tr>\n",
       "      <td>damageDealt</td>\n",
       "      <td>10000.0</td>\n",
       "      <td>129.211264</td>\n",
       "      <td>167.193945</td>\n",
       "      <td>0.0</td>\n",
       "      <td>0.000</td>\n",
       "      <td>83.8050</td>\n",
       "      <td>185.325000</td>\n",
       "      <td>3469.0</td>\n",
       "    </tr>\n",
       "    <tr>\n",
       "      <td>DBNOs</td>\n",
       "      <td>10000.0</td>\n",
       "      <td>0.644000</td>\n",
       "      <td>1.095620</td>\n",
       "      <td>0.0</td>\n",
       "      <td>0.000</td>\n",
       "      <td>0.0000</td>\n",
       "      <td>1.000000</td>\n",
       "      <td>11.0</td>\n",
       "    </tr>\n",
       "    <tr>\n",
       "      <td>headshotKills</td>\n",
       "      <td>10000.0</td>\n",
       "      <td>0.221700</td>\n",
       "      <td>0.577046</td>\n",
       "      <td>0.0</td>\n",
       "      <td>0.000</td>\n",
       "      <td>0.0000</td>\n",
       "      <td>0.000000</td>\n",
       "      <td>14.0</td>\n",
       "    </tr>\n",
       "    <tr>\n",
       "      <td>heals</td>\n",
       "      <td>10000.0</td>\n",
       "      <td>1.354000</td>\n",
       "      <td>2.629102</td>\n",
       "      <td>0.0</td>\n",
       "      <td>0.000</td>\n",
       "      <td>0.0000</td>\n",
       "      <td>2.000000</td>\n",
       "      <td>31.0</td>\n",
       "    </tr>\n",
       "    <tr>\n",
       "      <td>killPlace</td>\n",
       "      <td>10000.0</td>\n",
       "      <td>47.663100</td>\n",
       "      <td>27.424146</td>\n",
       "      <td>1.0</td>\n",
       "      <td>24.000</td>\n",
       "      <td>48.0000</td>\n",
       "      <td>71.000000</td>\n",
       "      <td>100.0</td>\n",
       "    </tr>\n",
       "    <tr>\n",
       "      <td>killPoints</td>\n",
       "      <td>10000.0</td>\n",
       "      <td>506.970200</td>\n",
       "      <td>627.297959</td>\n",
       "      <td>0.0</td>\n",
       "      <td>0.000</td>\n",
       "      <td>0.0000</td>\n",
       "      <td>1169.000000</td>\n",
       "      <td>1926.0</td>\n",
       "    </tr>\n",
       "    <tr>\n",
       "      <td>kills</td>\n",
       "      <td>10000.0</td>\n",
       "      <td>0.913400</td>\n",
       "      <td>1.524117</td>\n",
       "      <td>0.0</td>\n",
       "      <td>0.000</td>\n",
       "      <td>0.0000</td>\n",
       "      <td>1.000000</td>\n",
       "      <td>35.0</td>\n",
       "    </tr>\n",
       "    <tr>\n",
       "      <td>killStreaks</td>\n",
       "      <td>10000.0</td>\n",
       "      <td>0.543800</td>\n",
       "      <td>0.701948</td>\n",
       "      <td>0.0</td>\n",
       "      <td>0.000</td>\n",
       "      <td>0.0000</td>\n",
       "      <td>1.000000</td>\n",
       "      <td>4.0</td>\n",
       "    </tr>\n",
       "    <tr>\n",
       "      <td>longestKill</td>\n",
       "      <td>10000.0</td>\n",
       "      <td>23.272333</td>\n",
       "      <td>50.536262</td>\n",
       "      <td>0.0</td>\n",
       "      <td>0.000</td>\n",
       "      <td>0.0000</td>\n",
       "      <td>22.345000</td>\n",
       "      <td>538.6</td>\n",
       "    </tr>\n",
       "    <tr>\n",
       "      <td>matchDuration</td>\n",
       "      <td>10000.0</td>\n",
       "      <td>1575.398000</td>\n",
       "      <td>258.963515</td>\n",
       "      <td>464.0</td>\n",
       "      <td>1366.000</td>\n",
       "      <td>1431.5000</td>\n",
       "      <td>1849.250000</td>\n",
       "      <td>2202.0</td>\n",
       "    </tr>\n",
       "    <tr>\n",
       "      <td>maxPlace</td>\n",
       "      <td>10000.0</td>\n",
       "      <td>44.655500</td>\n",
       "      <td>23.800859</td>\n",
       "      <td>2.0</td>\n",
       "      <td>28.000</td>\n",
       "      <td>30.0000</td>\n",
       "      <td>49.000000</td>\n",
       "      <td>100.0</td>\n",
       "    </tr>\n",
       "    <tr>\n",
       "      <td>numGroups</td>\n",
       "      <td>10000.0</td>\n",
       "      <td>43.151300</td>\n",
       "      <td>23.272567</td>\n",
       "      <td>2.0</td>\n",
       "      <td>27.000</td>\n",
       "      <td>30.0000</td>\n",
       "      <td>47.000000</td>\n",
       "      <td>100.0</td>\n",
       "    </tr>\n",
       "    <tr>\n",
       "      <td>rankPoints</td>\n",
       "      <td>10000.0</td>\n",
       "      <td>889.699600</td>\n",
       "      <td>738.535034</td>\n",
       "      <td>-1.0</td>\n",
       "      <td>-1.000</td>\n",
       "      <td>1444.0000</td>\n",
       "      <td>1500.000000</td>\n",
       "      <td>2835.0</td>\n",
       "    </tr>\n",
       "    <tr>\n",
       "      <td>revives</td>\n",
       "      <td>10000.0</td>\n",
       "      <td>0.160200</td>\n",
       "      <td>0.454045</td>\n",
       "      <td>0.0</td>\n",
       "      <td>0.000</td>\n",
       "      <td>0.0000</td>\n",
       "      <td>0.000000</td>\n",
       "      <td>5.0</td>\n",
       "    </tr>\n",
       "    <tr>\n",
       "      <td>rideDistance</td>\n",
       "      <td>10000.0</td>\n",
       "      <td>600.693584</td>\n",
       "      <td>1524.915601</td>\n",
       "      <td>0.0</td>\n",
       "      <td>0.000</td>\n",
       "      <td>0.0000</td>\n",
       "      <td>0.000575</td>\n",
       "      <td>28780.0</td>\n",
       "    </tr>\n",
       "    <tr>\n",
       "      <td>roadKills</td>\n",
       "      <td>10000.0</td>\n",
       "      <td>0.004200</td>\n",
       "      <td>0.074719</td>\n",
       "      <td>0.0</td>\n",
       "      <td>0.000</td>\n",
       "      <td>0.0000</td>\n",
       "      <td>0.000000</td>\n",
       "      <td>3.0</td>\n",
       "    </tr>\n",
       "    <tr>\n",
       "      <td>swimDistance</td>\n",
       "      <td>10000.0</td>\n",
       "      <td>4.385917</td>\n",
       "      <td>30.889620</td>\n",
       "      <td>0.0</td>\n",
       "      <td>0.000</td>\n",
       "      <td>0.0000</td>\n",
       "      <td>0.000000</td>\n",
       "      <td>971.2</td>\n",
       "    </tr>\n",
       "    <tr>\n",
       "      <td>teamKills</td>\n",
       "      <td>10000.0</td>\n",
       "      <td>0.024400</td>\n",
       "      <td>0.171486</td>\n",
       "      <td>0.0</td>\n",
       "      <td>0.000</td>\n",
       "      <td>0.0000</td>\n",
       "      <td>0.000000</td>\n",
       "      <td>3.0</td>\n",
       "    </tr>\n",
       "    <tr>\n",
       "      <td>vehicleDestroys</td>\n",
       "      <td>10000.0</td>\n",
       "      <td>0.007700</td>\n",
       "      <td>0.089674</td>\n",
       "      <td>0.0</td>\n",
       "      <td>0.000</td>\n",
       "      <td>0.0000</td>\n",
       "      <td>0.000000</td>\n",
       "      <td>2.0</td>\n",
       "    </tr>\n",
       "    <tr>\n",
       "      <td>walkDistance</td>\n",
       "      <td>10000.0</td>\n",
       "      <td>1130.008410</td>\n",
       "      <td>1168.597983</td>\n",
       "      <td>0.0</td>\n",
       "      <td>151.575</td>\n",
       "      <td>650.3500</td>\n",
       "      <td>1923.250000</td>\n",
       "      <td>10490.0</td>\n",
       "    </tr>\n",
       "    <tr>\n",
       "      <td>weaponsAcquired</td>\n",
       "      <td>10000.0</td>\n",
       "      <td>3.635900</td>\n",
       "      <td>2.422090</td>\n",
       "      <td>0.0</td>\n",
       "      <td>2.000</td>\n",
       "      <td>3.0000</td>\n",
       "      <td>5.000000</td>\n",
       "      <td>41.0</td>\n",
       "    </tr>\n",
       "    <tr>\n",
       "      <td>winPoints</td>\n",
       "      <td>10000.0</td>\n",
       "      <td>609.344000</td>\n",
       "      <td>739.792400</td>\n",
       "      <td>0.0</td>\n",
       "      <td>0.000</td>\n",
       "      <td>0.0000</td>\n",
       "      <td>1495.000000</td>\n",
       "      <td>1863.0</td>\n",
       "    </tr>\n",
       "    <tr>\n",
       "      <td>winPlacePerc</td>\n",
       "      <td>10000.0</td>\n",
       "      <td>0.469926</td>\n",
       "      <td>0.304508</td>\n",
       "      <td>0.0</td>\n",
       "      <td>0.200</td>\n",
       "      <td>0.4583</td>\n",
       "      <td>0.735100</td>\n",
       "      <td>1.0</td>\n",
       "    </tr>\n",
       "  </tbody>\n",
       "</table>\n",
       "</div>"
      ],
      "text/plain": [
       "                   count         mean          std    min       25%  \\\n",
       "assists          10000.0     0.234600     0.575149    0.0     0.000   \n",
       "boosts           10000.0     1.088500     1.703279    0.0     0.000   \n",
       "damageDealt      10000.0   129.211264   167.193945    0.0     0.000   \n",
       "DBNOs            10000.0     0.644000     1.095620    0.0     0.000   \n",
       "headshotKills    10000.0     0.221700     0.577046    0.0     0.000   \n",
       "heals            10000.0     1.354000     2.629102    0.0     0.000   \n",
       "killPlace        10000.0    47.663100    27.424146    1.0    24.000   \n",
       "killPoints       10000.0   506.970200   627.297959    0.0     0.000   \n",
       "kills            10000.0     0.913400     1.524117    0.0     0.000   \n",
       "killStreaks      10000.0     0.543800     0.701948    0.0     0.000   \n",
       "longestKill      10000.0    23.272333    50.536262    0.0     0.000   \n",
       "matchDuration    10000.0  1575.398000   258.963515  464.0  1366.000   \n",
       "maxPlace         10000.0    44.655500    23.800859    2.0    28.000   \n",
       "numGroups        10000.0    43.151300    23.272567    2.0    27.000   \n",
       "rankPoints       10000.0   889.699600   738.535034   -1.0    -1.000   \n",
       "revives          10000.0     0.160200     0.454045    0.0     0.000   \n",
       "rideDistance     10000.0   600.693584  1524.915601    0.0     0.000   \n",
       "roadKills        10000.0     0.004200     0.074719    0.0     0.000   \n",
       "swimDistance     10000.0     4.385917    30.889620    0.0     0.000   \n",
       "teamKills        10000.0     0.024400     0.171486    0.0     0.000   \n",
       "vehicleDestroys  10000.0     0.007700     0.089674    0.0     0.000   \n",
       "walkDistance     10000.0  1130.008410  1168.597983    0.0   151.575   \n",
       "weaponsAcquired  10000.0     3.635900     2.422090    0.0     2.000   \n",
       "winPoints        10000.0   609.344000   739.792400    0.0     0.000   \n",
       "winPlacePerc     10000.0     0.469926     0.304508    0.0     0.200   \n",
       "\n",
       "                       50%          75%      max  \n",
       "assists             0.0000     0.000000      7.0  \n",
       "boosts              0.0000     2.000000     18.0  \n",
       "damageDealt        83.8050   185.325000   3469.0  \n",
       "DBNOs               0.0000     1.000000     11.0  \n",
       "headshotKills       0.0000     0.000000     14.0  \n",
       "heals               0.0000     2.000000     31.0  \n",
       "killPlace          48.0000    71.000000    100.0  \n",
       "killPoints          0.0000  1169.000000   1926.0  \n",
       "kills               0.0000     1.000000     35.0  \n",
       "killStreaks         0.0000     1.000000      4.0  \n",
       "longestKill         0.0000    22.345000    538.6  \n",
       "matchDuration    1431.5000  1849.250000   2202.0  \n",
       "maxPlace           30.0000    49.000000    100.0  \n",
       "numGroups          30.0000    47.000000    100.0  \n",
       "rankPoints       1444.0000  1500.000000   2835.0  \n",
       "revives             0.0000     0.000000      5.0  \n",
       "rideDistance        0.0000     0.000575  28780.0  \n",
       "roadKills           0.0000     0.000000      3.0  \n",
       "swimDistance        0.0000     0.000000    971.2  \n",
       "teamKills           0.0000     0.000000      3.0  \n",
       "vehicleDestroys     0.0000     0.000000      2.0  \n",
       "walkDistance      650.3500  1923.250000  10490.0  \n",
       "weaponsAcquired     3.0000     5.000000     41.0  \n",
       "winPoints           0.0000  1495.000000   1863.0  \n",
       "winPlacePerc        0.4583     0.735100      1.0  "
      ]
     },
     "execution_count": 4,
     "metadata": {},
     "output_type": "execute_result"
    }
   ],
   "source": [
    "df.describe().T"
   ]
  },
  {
   "cell_type": "markdown",
   "metadata": {},
   "source": [
    "We get to know the mean and median along with various other parameters of std deviation on the given Pubg dataset."
   ]
  },
  {
   "cell_type": "markdown",
   "metadata": {},
   "source": [
    "# Task4 : The average person kills how many players?"
   ]
  },
  {
   "cell_type": "code",
   "execution_count": 5,
   "metadata": {},
   "outputs": [
    {
     "name": "stdout",
     "output_type": "stream",
     "text": [
      "The average person kills : 0.9134 players\n"
     ]
    }
   ],
   "source": [
    "print(\"The average person kills :\", df['kills'].mean(), \"players\")"
   ]
  },
  {
   "cell_type": "markdown",
   "metadata": {},
   "source": [
    "# Task5 : 99% of people have how many kills?"
   ]
  },
  {
   "cell_type": "code",
   "execution_count": 6,
   "metadata": {},
   "outputs": [
    {
     "name": "stdout",
     "output_type": "stream",
     "text": [
      "99% of people have 7.0 kills\n"
     ]
    }
   ],
   "source": [
    "print(\"99% of people have\", df[\"kills\"].quantile(0.99), \"kills\")"
   ]
  },
  {
   "cell_type": "markdown",
   "metadata": {},
   "source": [
    "# Task6. The most kills ever recorded are how much?"
   ]
  },
  {
   "cell_type": "code",
   "execution_count": 7,
   "metadata": {},
   "outputs": [
    {
     "name": "stdout",
     "output_type": "stream",
     "text": [
      "The maximum kill recorded are : 35\n"
     ]
    }
   ],
   "source": [
    "print(\"The maximum kill recorded are :\", df[\"kills\"].max())"
   ]
  },
  {
   "cell_type": "markdown",
   "metadata": {},
   "source": [
    "# Task7. Print all the columns of the dataframe."
   ]
  },
  {
   "cell_type": "code",
   "execution_count": 8,
   "metadata": {},
   "outputs": [
    {
     "data": {
      "text/plain": [
       "Index(['Id', 'groupId', 'matchId', 'assists', 'boosts', 'damageDealt', 'DBNOs',\n",
       "       'headshotKills', 'heals', 'killPlace', 'killPoints', 'kills',\n",
       "       'killStreaks', 'longestKill', 'matchDuration', 'matchType', 'maxPlace',\n",
       "       'numGroups', 'rankPoints', 'revives', 'rideDistance', 'roadKills',\n",
       "       'swimDistance', 'teamKills', 'vehicleDestroys', 'walkDistance',\n",
       "       'weaponsAcquired', 'winPoints', 'winPlacePerc'],\n",
       "      dtype='object')"
      ]
     },
     "execution_count": 8,
     "metadata": {},
     "output_type": "execute_result"
    }
   ],
   "source": [
    "df.columns"
   ]
  },
  {
   "cell_type": "markdown",
   "metadata": {},
   "source": [
    "# Task8. Comment on distribution of the match's duration. Use seaborn."
   ]
  },
  {
   "cell_type": "code",
   "execution_count": 9,
   "metadata": {},
   "outputs": [
    {
     "data": {
      "image/png": "[encoded data removed]",
      "text/plain": [
       "<Figure size 432x288 with 1 Axes>"
      ]
     },
     "metadata": {
      "needs_background": "light"
     },
     "output_type": "display_data"
    }
   ],
   "source": [
    "sns.distplot(df['matchDuration']);"
   ]
  },
  {
   "cell_type": "markdown",
   "metadata": {},
   "source": [
    "# Task9. Comment on distribution of the walk distance. Use seaborn."
   ]
  },
  {
   "cell_type": "code",
   "execution_count": 10,
   "metadata": {},
   "outputs": [
    {
     "data": {
      "image/png": "[encoded data removed]",
      "text/plain": [
       "<Figure size 432x288 with 1 Axes>"
      ]
     },
     "metadata": {
      "needs_background": "light"
     },
     "output_type": "display_data"
    }
   ],
   "source": [
    "sns.distplot(df['walkDistance']);"
   ]
  },
  {
   "cell_type": "markdown",
   "metadata": {},
   "source": [
    "# Task10. Plot distribution of the match's duration vs walk distance one below the other."
   ]
  },
  {
   "cell_type": "code",
   "execution_count": 11,
   "metadata": {},
   "outputs": [
    {
     "data": {
      "text/plain": [
       "Text(0.5, 0, 'Walk Distance')"
      ]
     },
     "execution_count": 11,
     "metadata": {},
     "output_type": "execute_result"
    },
    {
     "data": {
      "image/png": "[encoded data removed]",
      "text/plain": [
       "<Figure size 360x576 with 2 Axes>"
      ]
     },
     "metadata": {
      "needs_background": "light"
     },
     "output_type": "display_data"
    }
   ],
   "source": [
    "plt.figure(figsize=(5,8))\n",
    "\n",
    "# ploting for matchDuration\n",
    "plt.subplot(2,1,1)\n",
    "plt.plot(df[\"matchDuration\"],\"o\", color='pink')\n",
    "plt.xlabel(\"Match Duration\")\n",
    "\n",
    "# ploting for walkDistance\n",
    "plt.subplot(2,1,2)\n",
    "plt.plot(df[\"walkDistance\"],\"*\")\n",
    "plt.xlabel(\"Walk Distance\")"
   ]
  },
  {
   "cell_type": "markdown",
   "metadata": {},
   "source": [
    "# Task11. Plot distribution of the match's duration vs walk distance side by side"
   ]
  },
  {
   "cell_type": "code",
   "execution_count": 12,
   "metadata": {},
   "outputs": [
    {
     "data": {
      "text/plain": [
       "Text(0.5, 0, 'Walk Distance')"
      ]
     },
     "execution_count": 12,
     "metadata": {},
     "output_type": "execute_result"
    },
    {
     "data": {
      "image/png": "[encoded data removed]",
      "text/plain": [
       "<Figure size 576x360 with 2 Axes>"
      ]
     },
     "metadata": {
      "needs_background": "light"
     },
     "output_type": "display_data"
    }
   ],
   "source": [
    "plt.figure(figsize=(8,5))\n",
    "\n",
    "# ploting for matchDuration\n",
    "plt.subplot(1,2,1)\n",
    "plt.plot(df[\"matchDuration\"],\"o\", color='pink')\n",
    "plt.xlabel(\"Match Duration\")\n",
    "\n",
    "# ploting for walkDistance\n",
    "plt.subplot(1,2,2)\n",
    "plt.plot(df[\"walkDistance\"],\"*\")\n",
    "plt.xlabel(\"Walk Distance\")"
   ]
  },
  {
   "cell_type": "markdown",
   "metadata": {},
   "source": [
    "# Task12. Pairplot the dataframe. Comment on kills vs damage dealt, Comment on maxPlace vs numGroups."
   ]
  },
  {
   "cell_type": "code",
   "execution_count": 13,
   "metadata": {},
   "outputs": [],
   "source": [
    "#sns.pairplot(df);"
   ]
  },
  {
   "cell_type": "markdown",
   "metadata": {},
   "source": [
    "MY SYSTEM HANGS UP WHILE EXECUTING THIS COMMAND OF TASK 12."
   ]
  },
  {
   "cell_type": "markdown",
   "metadata": {},
   "source": [
    "# Task13 How many unique values are there in 'matchType' and what are their counts?"
   ]
  },
  {
   "cell_type": "code",
   "execution_count": 14,
   "metadata": {},
   "outputs": [
    {
     "name": "stdout",
     "output_type": "stream",
     "text": [
      "['squad-fpp' 'squad' 'duo-fpp' 'solo-fpp' 'duo' 'solo' 'crashfpp'\n",
      " 'flaretpp' 'normal-squad-fpp' 'normal-duo-fpp' 'flarefpp' 'normal-squad'\n",
      " 'normal-solo-fpp' 'crashtpp']\n",
      "\n",
      "Count:  14\n"
     ]
    }
   ],
   "source": [
    "print(df.matchType.unique())\n",
    "print('\\nCount: ', len(df.matchType.unique()) )"
   ]
  },
  {
   "cell_type": "markdown",
   "metadata": {},
   "source": [
    "# Task14 Plot a barplot of ‘matchType’ vs 'killPoints'. Write your inferences."
   ]
  },
  {
   "cell_type": "code",
   "execution_count": 15,
   "metadata": {},
   "outputs": [
    {
     "data": {
      "text/plain": [
       "<matplotlib.axes._subplots.AxesSubplot at 0x160f2315cc8>"
      ]
     },
     "execution_count": 15,
     "metadata": {},
     "output_type": "execute_result"
    },
    {
     "data": {
      "image/png": "[encoded data removed]",
      "text/plain": [
       "<Figure size 1440x360 with 1 Axes>"
      ]
     },
     "metadata": {
      "needs_background": "light"
     },
     "output_type": "display_data"
    }
   ],
   "source": [
    "plt.figure(figsize=(20,5))\n",
    "sns.barplot(df.matchType, df.killPoints)\n"
   ]
  },
  {
   "cell_type": "markdown",
   "metadata": {},
   "source": [
    "normal-duo-fpp, normal-squads have highest number of killpoints\n",
    "crashfpp, flaretpp, flarefpp, crashtpp have lowest/no killpoints"
   ]
  },
  {
   "cell_type": "markdown",
   "metadata": {},
   "source": [
    "# Task15 Plot a barplot of ‘matchType’ vs ‘weaponsAcquired’. Write your inferences."
   ]
  },
  {
   "cell_type": "code",
   "execution_count": 16,
   "metadata": {},
   "outputs": [
    {
     "data": {
      "image/png": "[encoded data removed]",
      "text/plain": [
       "<Figure size 1440x360 with 1 Axes>"
      ]
     },
     "metadata": {
      "needs_background": "light"
     },
     "output_type": "display_data"
    }
   ],
   "source": [
    "plt.figure(figsize=(20,5))\n",
    "sns.barplot(df.matchType, df.weaponsAcquired);"
   ]
  },
  {
   "cell_type": "markdown",
   "metadata": {},
   "source": [
    "\n",
    "normal-solo-fpp have highest number of weapons aquired\n",
    "crashtpp have lowest number of weapons aquired"
   ]
  },
  {
   "cell_type": "markdown",
   "metadata": {},
   "source": [
    "# Task16 Find the Categorical columns."
   ]
  },
  {
   "cell_type": "code",
   "execution_count": 17,
   "metadata": {},
   "outputs": [
    {
     "data": {
      "text/plain": [
       "['assists',\n",
       " 'headshotKills',\n",
       " 'killStreaks',\n",
       " 'revives',\n",
       " 'roadKills',\n",
       " 'teamKills',\n",
       " 'vehicleDestroys']"
      ]
     },
     "execution_count": 17,
     "metadata": {},
     "output_type": "execute_result"
    }
   ],
   "source": [
    "if [col for col in df.columns if len(df[col].unique()) <=10]:\n",
    "     cat_var = [col for col in df.columns if len(df[col].unique()) <=10]  \n",
    "cat_var"
   ]
  },
  {
   "cell_type": "markdown",
   "metadata": {},
   "source": [
    "# Task17 Plot a boxplot of ‘matchType’ vs ‘winPlacePerc’. Write your inferences."
   ]
  },
  {
   "cell_type": "code",
   "execution_count": 18,
   "metadata": {},
   "outputs": [
    {
     "data": {
      "image/png": "[encoded data removed]",
      "text/plain": [
       "<Figure size 1440x360 with 1 Axes>"
      ]
     },
     "metadata": {
      "needs_background": "light"
     },
     "output_type": "display_data"
    }
   ],
   "source": [
    "plt.figure(figsize=(20,5))\n",
    "sns.boxplot(df.matchType, df.winPlacePerc);"
   ]
  },
  {
   "cell_type": "markdown",
   "metadata": {},
   "source": [
    "median of flaretpp is near to maximum value of winPlacePerc\n",
    "flarefpp seems to be irrelevent as no information is gathered from this boxplot"
   ]
  },
  {
   "cell_type": "markdown",
   "metadata": {},
   "source": [
    "# Task19 Change the orientation of the above plot to horizontal"
   ]
  },
  {
   "cell_type": "code",
   "execution_count": 19,
   "metadata": {},
   "outputs": [
    {
     "data": {
      "image/png": "[encoded data removed]",
      "text/plain": [
       "<Figure size 432x288 with 1 Axes>"
      ]
     },
     "metadata": {
      "needs_background": "light"
     },
     "output_type": "display_data"
    }
   ],
   "source": [
    "sns.boxplot(y = df.matchType, x= df.matchDuration);"
   ]
  },
  {
   "cell_type": "markdown",
   "metadata": {},
   "source": [
    "# Task20. Add a new column called ‘KILL’ which contains the sum of following columns viz. headshotKills, teamKills, roadKills."
   ]
  },
  {
   "cell_type": "code",
   "execution_count": 20,
   "metadata": {},
   "outputs": [
    {
     "data": {
      "text/plain": [
       "0       0\n",
       "1       1\n",
       "2       1\n",
       "3       0\n",
       "4       0\n",
       "       ..\n",
       "9995    0\n",
       "9996    0\n",
       "9997    0\n",
       "9998    0\n",
       "9999    0\n",
       "Name: KILL, Length: 10000, dtype: int64"
      ]
     },
     "execution_count": 20,
     "metadata": {},
     "output_type": "execute_result"
    }
   ],
   "source": [
    "df['KILL'] = df.headshotKills + df.teamKills + df.roadKills\n",
    "df['KILL']"
   ]
  },
  {
   "cell_type": "markdown",
   "metadata": {},
   "source": [
    "# Task21. Round off column ‘winPlacePerc’ to 2 decimals"
   ]
  },
  {
   "cell_type": "code",
   "execution_count": 21,
   "metadata": {},
   "outputs": [
    {
     "data": {
      "text/plain": [
       "0       0.00\n",
       "1       0.22\n",
       "2       0.86\n",
       "3       0.35\n",
       "4       0.07\n",
       "        ... \n",
       "9995    0.83\n",
       "9996    0.72\n",
       "9997    0.21\n",
       "9998    0.24\n",
       "9999    0.19\n",
       "Name: winPlacePerc, Length: 10000, dtype: float64"
      ]
     },
     "execution_count": 21,
     "metadata": {},
     "output_type": "execute_result"
    }
   ],
   "source": [
    "df.winPlacePerc.round(decimals=2)"
   ]
  },
  {
   "cell_type": "markdown",
   "metadata": {},
   "source": [
    "# Task22. Take a sample of size 50 from the column damageDealt for 100 times and calculate its mean. Plot it on a histogram and comment on its distribution."
   ]
  },
  {
   "cell_type": "code",
   "execution_count": 22,
   "metadata": {},
   "outputs": [
    {
     "name": "stderr",
     "output_type": "stream",
     "text": [
      "C:\\Users\\lenovo\\Anaconda3\\lib\\site-packages\\numpy\\lib\\histograms.py:824: RuntimeWarning: invalid value encountered in greater_equal\n",
      "  keep = (tmp_a >= first_edge)\n",
      "C:\\Users\\lenovo\\Anaconda3\\lib\\site-packages\\numpy\\lib\\histograms.py:825: RuntimeWarning: invalid value encountered in less_equal\n",
      "  keep &= (tmp_a <= last_edge)\n"
     ]
    },
    {
     "data": {
      "image/png": "[encoded data removed]",
      "text/plain": [
       "<Figure size 432x288 with 1 Axes>"
      ]
     },
     "metadata": {
      "needs_background": "light"
     },
     "output_type": "display_data"
    }
   ],
   "source": [
    "mean = []\n",
    "for i in range(100):\n",
    "    for x in range(0,1001,50):\n",
    "        mean1 = df['damageDealt'].head(x).mean()\n",
    "        mean.append(mean1)\n",
    "plt.hist(mean);"
   ]
  },
  {
   "cell_type": "markdown",
   "metadata": {},
   "source": [
    "# Task18. Plot a boxplot of ‘matchType’ vs ‘matchDuration’. Write your inferences"
   ]
  },
  {
   "cell_type": "code",
   "execution_count": 23,
   "metadata": {},
   "outputs": [
    {
     "data": {
      "image/png": "[encoded data removed]",
      "text/plain": [
       "<Figure size 1440x360 with 1 Axes>"
      ]
     },
     "metadata": {
      "needs_background": "light"
     },
     "output_type": "display_data"
    }
   ],
   "source": [
    "plt.figure(figsize=(20,5))\n",
    "sns.boxplot(df.matchType, df.matchDuration);"
   ]
  },
  {
   "cell_type": "markdown",
   "metadata": {},
   "source": [
    "crashfpp, crashtpp seems to have low duration of match"
   ]
  }
 ],
 "metadata": {
  "kernelspec": {
   "display_name": "Python 3",
   "language": "python",
   "name": "python3"
  },
  "language_info": {
   "codemirror_mode": {
    "name": "ipython",
    "version": 3
   },
   "file_extension": ".py",
   "mimetype": "text/x-python",
   "name": "python",
   "nbconvert_exporter": "python",
   "pygments_lexer": "ipython3",
   "version": "3.7.4"
  }
 },
 "nbformat": 4,
 "nbformat_minor": 2
}
